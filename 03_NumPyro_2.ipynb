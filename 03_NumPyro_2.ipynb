{
  "nbformat": 4,
  "nbformat_minor": 0,
  "metadata": {
    "colab": {
      "provenance": [],
      "authorship_tag": "ABX9TyOzF38TZoe42OVj1CfGopH/",
      "include_colab_link": true
    },
    "kernelspec": {
      "name": "python3",
      "display_name": "Python 3"
    }
  },
  "cells": [
    {
      "cell_type": "markdown",
      "metadata": {
        "id": "view-in-github",
        "colab_type": "text"
      },
      "source": [
        "<a href=\"https://colab.research.google.com/github/tomonari-masada/course2023-stats2/blob/main/03_NumPyro_2.ipynb\" target=\"_parent\"><img src=\"https://colab.research.google.com/assets/colab-badge.svg\" alt=\"Open In Colab\"/></a>"
      ]
    },
    {
      "cell_type": "markdown",
      "metadata": {
        "id": "kPliufI5JIBN"
      },
      "source": [
        "# NumPyro入門 (2)\n",
        "* 今回は、NumPyroの以下のチュートリアルを使う。\n",
        " * https://num.pyro.ai/en/stable/tutorials/bayesian_regression.html"
      ]
    },
    {
      "cell_type": "markdown",
      "metadata": {
        "id": "aAmsZdwhg4tg"
      },
      "source": [
        "## 準備"
      ]
    },
    {
      "cell_type": "code",
      "source": [
        "!pip install arviz\n",
        "!pip install numpyro"
      ],
      "metadata": {
        "id": "9KN9Ftf4MW2g"
      },
      "execution_count": null,
      "outputs": []
    },
    {
      "cell_type": "code",
      "metadata": {
        "id": "nFHGDAKVsWK8"
      },
      "source": [
        "import matplotlib.pyplot as plt\n",
        "import numpy as np\n",
        "import pandas as pd\n",
        "import seaborn as sns\n",
        "\n",
        "import jax\n",
        "import jax.numpy as jnp\n",
        "from jax import random\n",
        "import numpyro\n",
        "from numpyro.diagnostics import hpdi\n",
        "import numpyro.distributions as dist\n",
        "from numpyro.infer import NUTS, MCMC, Predictive\n",
        "\n",
        "import arviz as az\n",
        "\n",
        "%config InlineBackend.figure_format = 'retina'\n",
        "\n",
        "plt.style.use(\"bmh\")\n",
        "rng_key = random.PRNGKey(0)\n",
        "az.style.use(\"arviz-darkgrid\")\n",
        "numpyro.set_platform(\"cpu\")"
      ],
      "execution_count": null,
      "outputs": []
    },
    {
      "cell_type": "markdown",
      "metadata": {
        "id": "zC1xWo9kg-Hd"
      },
      "source": [
        "## NumPyroによるMCMC"
      ]
    },
    {
      "cell_type": "markdown",
      "metadata": {
        "id": "pmc9Wooutk-a"
      },
      "source": [
        "### MCMC（マルコフ連鎖モンテカルロ）とは\n",
        "* ベイズ的なモデリングにおいて、事後分布を知ろうとする方法の一つ。\n",
        " * もう一つの方法に、変分推論(variational inference)がある。\n",
        "* MCMCは、事後分布からのサンプルを通して、事後分布そのものを知ろうとする方法。\n",
        "* モデルが複雑になるほど、事後分布$p(\\theta|X)$からのサンプリングは、難しくなっていく。\n",
        " * 比較的シンプルなモデルについては、うまいサンプリング手法を構成できる（例：LDAのcollapsed Gibbs sampling）。\n",
        "* この授業では、MCMCの使い方を実践的に説明する。細かい理屈はあまり説明しない。\n",
        " * MCMCの解説としては https://arxiv.org/abs/1701.02434 などを参照のこと。"
      ]
    },
    {
      "cell_type": "markdown",
      "source": [
        "## 例題： The Spurious Waffles\n",
        "* このデータセットについては、下のスライドを参照のこと。\n",
        " * https://speakerdeck.com/rmcelreath/l05-statistical-rethinking-winter-2019\n"
      ],
      "metadata": {
        "id": "sbMrN2qj6xpD"
      }
    },
    {
      "cell_type": "markdown",
      "metadata": {
        "id": "F3sI4QSir-1E"
      },
      "source": [
        "* USの各州でのワッフル・ハウスというレストランの店舗数と、離婚率とに、正の相関がある？\n",
        "* もちろんこれは、擬似連関(spurious association)。\n",
        " * https://www.tylervigen.com/spurious-correlations\n",
        " * 実際には、ワッフル・ハウスの店舗数に影響を与える他の要因と、離婚率との間に、相関がある。\n",
        " * なお、associationとcorrelationという言葉はあまり区別せず使われる。 \n",
        " * だが、correlationの方を特にlinearな連関に限定した意味で使うことがある。\n",
        "* ここでは、擬似連関の分析には深入りしない。\n",
        "* ベイズ回帰をNumPyroでどのように実装するかを説明するために、このデータセットを使う。"
      ]
    },
    {
      "cell_type": "code",
      "source": [
        "DATASET_URL = \"https://raw.githubusercontent.com/rmcelreath/rethinking/master/data/WaffleDivorce.csv\"\n",
        "dset = pd.read_csv(DATASET_URL, sep=\";\")\n",
        "dset"
      ],
      "metadata": {
        "id": "MKxyHNid_EEE"
      },
      "execution_count": null,
      "outputs": []
    },
    {
      "cell_type": "markdown",
      "source": [
        "* ペアプロットで主要な変数どうしの関係を可視化する。"
      ],
      "metadata": {
        "id": "T3NKuPnW_lsa"
      }
    },
    {
      "cell_type": "code",
      "source": [
        "vars = [\n",
        "    \"Population\",\n",
        "    \"MedianAgeMarriage\",\n",
        "    \"Marriage\",\n",
        "    \"WaffleHouses\",\n",
        "    \"South\",\n",
        "    \"Divorce\",\n",
        "]\n",
        "sns.pairplot(dset, x_vars=vars, y_vars=vars, palette=\"husl\");"
      ],
      "metadata": {
        "id": "1udCuM3t_G-h"
      },
      "execution_count": null,
      "outputs": []
    },
    {
      "cell_type": "markdown",
      "source": [
        "* ペアプロットから得られる観察\n",
        " * 離婚率と婚姻率の間には連関がありそう。\n",
        " * 離婚率と婚姻年齢の中央値の間にも連関がありそう。"
      ],
      "metadata": {
        "id": "YeBGkeWwAHoQ"
      }
    },
    {
      "cell_type": "markdown",
      "source": [
        "* 問題の、離婚率とWaffle Houseの店舗数との連関を、seabornの`regplot`で可視化してみる。\n",
        " * この擬似連関ついては、下記の教科書の5,6章に議論があるらしい。\n",
        " * McElreath, R. (2016). [Statistical Rethinking](https://xcelab.net/rm/statistical-rethinking/): A Bayesian Course with Examples in R and Stan CRC Press."
      ],
      "metadata": {
        "id": "OEuWNpyzBTE2"
      }
    },
    {
      "cell_type": "code",
      "source": [
        "sns.regplot(x=\"WaffleHouses\", y=\"Divorce\", data=dset);"
      ],
      "metadata": {
        "id": "XvE-UCdYBZuZ"
      },
      "execution_count": null,
      "outputs": []
    },
    {
      "cell_type": "markdown",
      "source": [
        "### データの標準化(standardization)\n",
        "* これは、MCMCを使ったベイズ推論では、重要。\n",
        " * https://mc-stan.org/docs/stan-users-guide/standardizing-predictors-and-outputs.html"
      ],
      "metadata": {
        "id": "-HHhK44jCkGT"
      }
    },
    {
      "cell_type": "code",
      "source": [
        "standardize = lambda x: (x - x.mean()) / x.std()\n",
        "\n",
        "dset[\"AgeScaled\"] = dset.MedianAgeMarriage.pipe(standardize)\n",
        "dset[\"MarriageScaled\"] = dset.Marriage.pipe(standardize)\n",
        "dset[\"DivorceScaled\"] = dset.Divorce.pipe(standardize)"
      ],
      "metadata": {
        "id": "err4ruKsCub_"
      },
      "execution_count": null,
      "outputs": []
    },
    {
      "cell_type": "markdown",
      "source": [
        "### 離婚率を予測するベイズ線形回帰モデル\n",
        "* ここでは、離婚率を、以下の2つの説明変数(predictor)で予測することを考える。\n",
        " * 婚姻率\n",
        " * 婚姻年齢の中央値\n",
        "* ベイズ回帰は、説明変数の係数がなんらかの事前分布に従うと仮定する点で、通常の回帰と異なる。\n",
        " * ここでは、係数は正規分布に従うと仮定する。\n"
      ],
      "metadata": {
        "id": "nynASLzrCB36"
      }
    },
    {
      "cell_type": "markdown",
      "source": [
        "### モデルの構成\n",
        "* 離婚率を表す変数を$y$とする。この$y$が目的変数。\n",
        "* 婚姻率を表す変数を$x_M$、婚姻年齢の中央値を表す変数を$x_A$とする。これらは説明変数。\n",
        "* 今回使うモデルの構成を式で書くと、以下のようになる。\n",
        "$$\\begin{align}\n",
        "a & \\sim N(0, 0.2^2) \\\\\n",
        "b_M & \\sim N(0, 0.5^2) \\\\\n",
        "b_A & \\sim N(0, 0.5^2) \\\\\n",
        "\\sigma & \\sim \\mbox{Exp}(1) \\\\\n",
        "\\mu & \\equiv a + b_M x_M + b_A x_A \\\\\n",
        "y & \\sim N(\\mu, \\sigma^2)\n",
        "\\end{align}$$"
      ],
      "metadata": {
        "id": "T9ty7tLpL6RM"
      }
    },
    {
      "cell_type": "markdown",
      "source": [
        "### モデルの実装\n",
        "* NumPyroでは、モデルは関数として定義される。\n",
        "* 目的変数はオプション引数としておく方が良い。\n",
        " * その理由は、じわじわ分かってくる。\n",
        "* 今回、説明変数もオプション変数にしているのには、別の理由がある。\n",
        " * こうすると、一部の説明変数を使わないモデリングの際にも、同じ関数を使いまわせる。\n",
        "* 係数が従う正規分布の標準偏差（NumPyroの言葉ではscale）は、この値でないといけないというわけではない。\n",
        " * 事前分布のパラメータ（ハイパーパラメータ）をどう設定するかは、常に問題になる。"
      ],
      "metadata": {
        "id": "CeXDdJksDGE-"
      }
    },
    {
      "cell_type": "code",
      "source": [
        "def model(marriage=None, age=None, divorce=None):\n",
        "  a = numpyro.sample(\"a\", dist.Normal(0.0, 0.2))\n",
        "  M, A = 0.0, 0.0\n",
        "  if marriage is not None:\n",
        "    bM = numpyro.sample(\"bM\", dist.Normal(0.0, 0.5))\n",
        "    M = bM * marriage\n",
        "  if age is not None:\n",
        "    bA = numpyro.sample(\"bA\", dist.Normal(0.0, 0.5))\n",
        "    A = bA * age\n",
        "  sigma = numpyro.sample(\"sigma\", dist.Exponential(1.0))\n",
        "  mu = a + M + A\n",
        "  numpyro.sample(\"obs\", dist.Normal(mu, sigma), obs=divorce)"
      ],
      "metadata": {
        "id": "5TYMamu3DAUN"
      },
      "execution_count": null,
      "outputs": []
    },
    {
      "cell_type": "markdown",
      "source": [
        "## モデル1: 婚姻率による予測\n",
        "* 説明変数として婚姻率のみを使うモデリングをしてみる。\n",
        "* 関数`model`では、説明変数をオプション引数にしたので、使用する変数にだけ値を設定すれば、使いまわしができる。"
      ],
      "metadata": {
        "id": "-FYvolnlFBfK"
      }
    },
    {
      "cell_type": "markdown",
      "source": [
        "### MCMCの実行"
      ],
      "metadata": {
        "id": "NHKkveMTnPqm"
      }
    },
    {
      "cell_type": "markdown",
      "source": [
        "* まず、擬似乱数のキーをsplitする。\n",
        " * これは、乱数に関してJAXでは独特の考え方をするため、必要になる。"
      ],
      "metadata": {
        "id": "ONsS8vvoFkX-"
      }
    },
    {
      "cell_type": "code",
      "source": [
        "rng_key = random.PRNGKey(0)\n",
        "rng_key, rng_key_ = random.split(rng_key)"
      ],
      "metadata": {
        "id": "ZIAoG1z1FhkR"
      },
      "execution_count": null,
      "outputs": []
    },
    {
      "cell_type": "markdown",
      "source": [
        "* そして、NUTSサンプラを実行する。"
      ],
      "metadata": {
        "id": "ub3HATxNF2J_"
      }
    },
    {
      "cell_type": "markdown",
      "metadata": {
        "id": "_Qs3O--6FI9M"
      },
      "source": [
        "* NUTS (No-U-Turn-Sampler) は、よく使われるサンプラー。\n",
        "* HMCの改良版。詳細は割愛するが、おおよその説明は後ほど。\n",
        " * https://mc-stan.org/docs/reference-manual/hmc.html\n",
        " * https://arxiv.org/abs/1111.4246"
      ]
    },
    {
      "cell_type": "code",
      "source": [
        "kernel = NUTS(model)\n",
        "num_samples = 2000\n",
        "mcmc = MCMC(kernel, num_warmup=1000, num_samples=num_samples, num_chains=2)\n",
        "mcmc.run(\n",
        "    rng_key_, marriage=dset.MarriageScaled.values, divorce=dset.DivorceScaled.values\n",
        ")"
      ],
      "metadata": {
        "id": "rs207gIPGEZd"
      },
      "execution_count": null,
      "outputs": []
    },
    {
      "cell_type": "markdown",
      "metadata": {
        "id": "7e1ElIUCvMJG"
      },
      "source": [
        "* chainとは、サンプルの一つの系列のこと。デフォルトではchainは一つだけ。\n",
        "* MCMCによるサンプリングでは、直前のサンプルを少し変化させることで、次のサンプルを求める。\n",
        " * 前回説明したとおり、この変化のさせ方が賢いので、ちゃんと事後分布からのサンプルになる。\n",
        "* ということは、サンプルは、初期値から始まる一筋の系列をなしている。この系列をchainと呼ぶ。\n",
        "* 複雑なモデルの場合は、複数のchainを走らせることが多い。\n",
        " * 複雑なモデルだと、事後分布からのサンプリングも複雑になる。\n",
        " * そのため、複数のchainを比較して、うまくサンプリングができているかをチェックしたりする。"
      ]
    },
    {
      "cell_type": "markdown",
      "source": [
        "* サンプルの統計量を見てみる。"
      ],
      "metadata": {
        "id": "e2ffKSpHN7AY"
      }
    },
    {
      "cell_type": "code",
      "source": [
        "mcmc.print_summary()"
      ],
      "metadata": {
        "id": "_ZL3w78DN1iG"
      },
      "execution_count": null,
      "outputs": []
    },
    {
      "cell_type": "markdown",
      "metadata": {
        "id": "PMlqIbrRpcdl"
      },
      "source": [
        "**注意** divergenceが0でなかったら、色々と考え直す必要がある。（後の回で説明します。）\n",
        " "
      ]
    },
    {
      "cell_type": "markdown",
      "source": [
        "* サンプルを取得する。"
      ],
      "metadata": {
        "id": "TmJURjWwOv5P"
      }
    },
    {
      "cell_type": "code",
      "source": [
        "samples_1 = mcmc.get_samples()\n",
        "samples_1"
      ],
      "metadata": {
        "id": "zti4SEdIOxzn"
      },
      "execution_count": null,
      "outputs": []
    },
    {
      "cell_type": "markdown",
      "source": [
        "* サンプルはJAXの配列になっている。"
      ],
      "metadata": {
        "id": "ZcSRqukXcvB0"
      }
    },
    {
      "cell_type": "code",
      "source": [
        "type(samples_1['a'])"
      ],
      "metadata": {
        "id": "p5LwkO2YO4j6"
      },
      "execution_count": null,
      "outputs": []
    },
    {
      "cell_type": "markdown",
      "source": [
        "* Numpyのndarrayに変換することもできる。"
      ],
      "metadata": {
        "id": "7ciCIUvbPro5"
      }
    },
    {
      "cell_type": "code",
      "source": [
        "type(np.array(samples_1['a']))"
      ],
      "metadata": {
        "id": "SNeeNMeGPM5O"
      },
      "execution_count": null,
      "outputs": []
    },
    {
      "cell_type": "markdown",
      "source": [
        "### サンプルの可視化"
      ],
      "metadata": {
        "id": "FvtxalRCnYxl"
      }
    },
    {
      "cell_type": "markdown",
      "metadata": {
        "id": "z2j7SnW9wvpd"
      },
      "source": [
        "* ここではArviZ向けのデータへ変換する。\n",
        " * こうすると、ArviZの様々な機能が使えるようになる。"
      ]
    },
    {
      "cell_type": "code",
      "metadata": {
        "id": "ht586H8Oticx"
      },
      "source": [
        "idata_1 = az.from_numpyro(mcmc)\n",
        "idata_1"
      ],
      "execution_count": null,
      "outputs": []
    },
    {
      "cell_type": "markdown",
      "metadata": {
        "id": "TrkAuHoZQlyH"
      },
      "source": [
        "* 特定のchainだけ選ぶ方法は以下の通り。"
      ]
    },
    {
      "cell_type": "code",
      "metadata": {
        "id": "qVSjIACwxILd"
      },
      "source": [
        "idata_1.posterior[\"a\"].sel(chain=0).shape"
      ],
      "execution_count": null,
      "outputs": []
    },
    {
      "cell_type": "markdown",
      "metadata": {
        "id": "fdkx-5zfEP2O"
      },
      "source": [
        "* 最初のchainの、最初の10個のサンプルだけ見てみる。"
      ]
    },
    {
      "cell_type": "code",
      "metadata": {
        "id": "qOHqUpIpxJpD"
      },
      "source": [
        "idata_1.posterior[\"a\"].sel(chain=0)[:10]"
      ],
      "execution_count": null,
      "outputs": []
    },
    {
      "cell_type": "markdown",
      "metadata": {
        "id": "xi1rPz2hQ3YW"
      },
      "source": [
        "* chainの中身のデータ型はxarrayの配列。\n",
        " * NumPyの配列とは違う。"
      ]
    },
    {
      "cell_type": "code",
      "metadata": {
        "id": "SvfXiZ39xP2U"
      },
      "source": [
        "type(idata_1.posterior[\"a\"])"
      ],
      "execution_count": null,
      "outputs": []
    },
    {
      "cell_type": "markdown",
      "metadata": {
        "id": "AKzVBjMLT7wo"
      },
      "source": [
        "* `.data`でndarrayへ変換できる。"
      ]
    },
    {
      "cell_type": "code",
      "metadata": {
        "id": "PoF2wR5HT0CY"
      },
      "source": [
        "type(idata_1.posterior[\"a\"].data)"
      ],
      "execution_count": null,
      "outputs": []
    },
    {
      "cell_type": "markdown",
      "source": [
        "* 事後分布からのサンプル全体をpandasのデータフレームに変換することもできる。"
      ],
      "metadata": {
        "id": "HXGCRfQAeiYC"
      }
    },
    {
      "cell_type": "code",
      "source": [
        "df_idata_1 = idata_1.posterior.to_dataframe()\n",
        "df_idata_1.head()"
      ],
      "metadata": {
        "id": "ZnrtbyqGeFyH"
      },
      "execution_count": null,
      "outputs": []
    },
    {
      "cell_type": "markdown",
      "metadata": {
        "id": "jRGDBA6uRKzM"
      },
      "source": [
        "* サンプルのヒストグラムを描くと、事後分布の大体の形が分かる。\n",
        "* まずは、あえてArviZを使わずに、seabornでヒストグラムを描いてみる。"
      ]
    },
    {
      "cell_type": "code",
      "metadata": {
        "id": "SIV0-6qERTFK"
      },
      "source": [
        "sns.displot(\n",
        "    df_idata_1.melt(var_name=\"cols\", value_name=\"value\"),\n",
        "    x=\"value\", row=\"cols\",\n",
        "    kind=\"kde\", rug=True\n",
        "    );"
      ],
      "execution_count": null,
      "outputs": []
    },
    {
      "cell_type": "markdown",
      "metadata": {
        "id": "9IcGhJ8MPJ1h"
      },
      "source": [
        "* とはいえ、やはりArviZを使うことにする。"
      ]
    },
    {
      "cell_type": "code",
      "metadata": {
        "id": "_P4bL8d4PN22"
      },
      "source": [
        "az.plot_trace(idata_1);"
      ],
      "execution_count": null,
      "outputs": []
    },
    {
      "cell_type": "markdown",
      "source": [
        "### 目的変数の期待値の信用区間\n",
        "* 信用区間 (credible interval) については、例えば下記のWebページを参照のこと。\n",
        " * https://statswithr.github.io/book/introduction-to-bayesian-regression.html"
      ],
      "metadata": {
        "id": "DWennYsMndjZ"
      }
    },
    {
      "cell_type": "markdown",
      "source": [
        "* 線形回帰によるモデリングを表す式\n",
        "$$\\begin{align} y = a + b_M x_M + \\sigma \\end{align}$$\n",
        "\n",
        "* $i$を観測データのインデックスとする。つまり、州の通し番号。\n",
        "\n",
        "* 説明変数の値が$x_{M,i}$のときの目的変数の（誤差が従う分布について求められる）期待値\n",
        "$$\\begin{align}\\mu_i \\equiv E_{\\sigma}[y | x_{M,i}] = E_{\\sigma}[a + b_M x_{M,i} + \\sigma] = a + b_M x_{M,i}\\end{align}$$\n",
        "\n",
        "* 事後分布からのサンプル$(a^{(s)}, b_M^{(s)})$を使って求めた、目的変数の期待値\n",
        "$$\\begin{align}\\mu_i^{(s)} = a^{(s)} + b_M^{(s)} x_{M,i}\\end{align}$$\n",
        "\n",
        "* 説明変数の値が$x_{M,i}$のときの目的変数の期待値の（切片と係数が従う事後分布について求められる）期待値\n",
        "$$\\begin{align} E_{a, b_M}[\\mu_i] \\approx \\frac{1}{S} \\sum_s \\mu_i^{(s)} = \\frac{1}{S} \\sum_s ( a^{(s)} + b_M^{(s)} x_{M,i} )\\end{align}$$\n",
        " * モンテカルロ近似をしている。"
      ],
      "metadata": {
        "id": "wud_Z3D1qZ55"
      }
    },
    {
      "cell_type": "markdown",
      "source": [
        "* 50州の標準化された婚姻率それぞれについて、サンプル毎に回帰式を計算する。"
      ],
      "metadata": {
        "id": "Ssd3KVKPJvHc"
      }
    },
    {
      "cell_type": "code",
      "source": [
        "posterior_mu = (\n",
        "    jnp.expand_dims(samples_1[\"a\"], -1)\n",
        "    + jnp.expand_dims(samples_1[\"bM\"], -1) * dset.MarriageScaled.values\n",
        ")\n",
        "posterior_mu.shape"
      ],
      "metadata": {
        "id": "U5cyO-dmJuib"
      },
      "execution_count": null,
      "outputs": []
    },
    {
      "cell_type": "markdown",
      "source": [
        "* 上の計算により、標準化された婚姻率の様々な値に対して、離婚率の期待値がどのように散らばっているかが求められている。\n",
        "* この結果を使って、標準化された婚姻率の様々な値に対して、対応する離婚率の期待値の、平均とHPDIを求める。"
      ],
      "metadata": {
        "id": "dMN0oRiKKOxM"
      }
    },
    {
      "cell_type": "code",
      "source": [
        "mean_mu = jnp.mean(posterior_mu, axis=0)\n",
        "hpdi_mu = hpdi(posterior_mu, 0.9)"
      ],
      "metadata": {
        "id": "FS4-CAnPKyhq"
      },
      "execution_count": null,
      "outputs": []
    },
    {
      "cell_type": "markdown",
      "source": [
        "* 下のヘルパ関数を使って、目的変数の期待値の90%信用区間を描画する。\n",
        "* 90%信用区間は、90% highest posterior density interval (HPDI)として求めている。\n",
        " * https://num.pyro.ai/en/stable/diagnostics.html#hpdi\n",
        " * 切片や係数のHPDIを求めて、回帰式に当てはめればよい。"
      ],
      "metadata": {
        "id": "gSEHkZxfIXff"
      }
    },
    {
      "cell_type": "code",
      "source": [
        "def plot_regression(x, y_mean, y_hpdi):\n",
        "  # Sort values for plotting by x axis\n",
        "  idx = jnp.argsort(x)\n",
        "  marriage = x[idx]\n",
        "  mean = y_mean[idx]\n",
        "  hpdi = y_hpdi[:, idx]\n",
        "  divorce = dset.DivorceScaled.values[idx]\n",
        "\n",
        "  # Plot\n",
        "  fig, ax = plt.subplots(nrows=1, ncols=1, figsize=(6, 6))\n",
        "  ax.plot(marriage, mean)\n",
        "  ax.plot(marriage, divorce, \"o\")\n",
        "  ax.fill_between(marriage, hpdi[0], hpdi[1], alpha=0.3, interpolate=True)\n",
        "  return ax"
      ],
      "metadata": {
        "id": "TKAxZwNuITN1"
      },
      "execution_count": null,
      "outputs": []
    },
    {
      "cell_type": "markdown",
      "source": [
        "* そして、ヘルパ関数を呼び出し、可視化する。"
      ],
      "metadata": {
        "id": "WabL4iUGK6IX"
      }
    },
    {
      "cell_type": "code",
      "source": [
        "ax = plot_regression(dset.MarriageScaled.values, mean_mu, hpdi_mu)\n",
        "ax.set(\n",
        "    xlabel=\"Marriage rate\", ylabel=\"Divorce rate\", title=\"Regression line with 90% CI\",\n",
        ");"
      ],
      "metadata": {
        "id": "hHfXIKz1K9Qn"
      },
      "execution_count": null,
      "outputs": []
    },
    {
      "cell_type": "markdown",
      "source": [
        "### 目的変数の予測値の信用区間"
      ],
      "metadata": {
        "id": "oJ_2ucFRLbqe"
      }
    },
    {
      "cell_type": "markdown",
      "source": [
        "#### 予測分布とは\n",
        "* ベイズ的モデリングで、事後分布を求めてどうするのか・・・という話を前回した。\n",
        "* 事後分布に関して、$\\theta$の関数$f(\\theta)$の期待値を計算することが、しばしばある。\n",
        "$$ E_{p(\\theta|X)}[f(\\theta)] = \\int f(\\theta) p(\\theta|X) d\\theta$$\n",
        " * 例： $f(\\theta)$として、データのモデリングに使っている尤度関数$p(x|\\theta)$を持ってくると、上の式は予測分布$p(x|X)$を表す。\n",
        "$$ E_{p(\\theta|X)}[p(x|\\theta)] = \\int p(x|\\theta) p(\\theta|X) d\\theta = p(x|X)$$\n"
      ],
      "metadata": {
        "id": "FcWHOSnyzVdS"
      }
    },
    {
      "cell_type": "markdown",
      "source": [
        "#### 予測分布のモンテカルロ近似\n",
        "* 期待値$E_{p(\\theta|X)}[f(\\theta)]$のこの計算を、以下の平均値で近似することを、モンテカルロ近似と呼ぶ。\n",
        " * $\\{ \\theta_s \\}$は、事後分布$p(\\theta|X)$からdrawした$S$個のサンプルを表す。\n",
        "$$ E_{p(\\theta|X)}[f(\\theta)] = \\int f(\\theta) p(\\theta|X) d\\theta \\approx \\frac{1}{S} \\sum_{s=1}^S f(\\theta_s) $$"
      ],
      "metadata": {
        "id": "bZCsMDhaza9v"
      }
    },
    {
      "cell_type": "markdown",
      "source": [
        "* NumPyroでは、`Predictive`という仕組みを使うと、予測分布からのサンプリングができる。"
      ],
      "metadata": {
        "id": "KdYNwOaiLty3"
      }
    },
    {
      "cell_type": "code",
      "source": [
        "rng_key, rng_key_ = random.split(rng_key)\n",
        "predictive = Predictive(model, samples_1) # ここで予測分布を作っている\n",
        "predictions_1 = predictive(rng_key_, marriage=dset.MarriageScaled.values)[\"obs\"]"
      ],
      "metadata": {
        "id": "CWdN1a64MDO_"
      },
      "execution_count": null,
      "outputs": []
    },
    {
      "cell_type": "markdown",
      "source": [
        "* `predictions`の形状は、[サンプルの数, 州の数]となっている。"
      ],
      "metadata": {
        "id": "X1LL4SbXMnFN"
      }
    },
    {
      "cell_type": "code",
      "source": [
        "predictions_1.shape"
      ],
      "metadata": {
        "id": "C1RYSaPTMkgV"
      },
      "execution_count": null,
      "outputs": []
    },
    {
      "cell_type": "markdown",
      "source": [
        "* 各州について予測された離婚率の平均を見てみる。"
      ],
      "metadata": {
        "id": "nj8x71PCMWTw"
      }
    },
    {
      "cell_type": "code",
      "source": [
        "mean_pred = jnp.mean(predictions_1, axis=0)\n",
        "\n",
        "df = dset.filter([\"Location\"])\n",
        "df[\"Mean Predictions\"] = mean_pred\n",
        "df.head()"
      ],
      "metadata": {
        "id": "PJU1vholMViT"
      },
      "execution_count": null,
      "outputs": []
    },
    {
      "cell_type": "markdown",
      "source": [
        "* 各州について予測された離婚率の90%信用区間を可視化する。"
      ],
      "metadata": {
        "id": "tdmXT0MFNeoG"
      }
    },
    {
      "cell_type": "code",
      "source": [
        "hpdi_pred = hpdi(predictions_1, 0.9)\n",
        "\n",
        "ax = plot_regression(dset.MarriageScaled.values, mean_pred, hpdi_pred)\n",
        "ax.set(xlabel=\"Marriage rate\", ylabel=\"Divorce rate\", title=\"Predictions with 90% CI\");"
      ],
      "metadata": {
        "id": "X92NmJZaNFC0"
      },
      "execution_count": null,
      "outputs": []
    },
    {
      "cell_type": "markdown",
      "metadata": {
        "id": "KHhlheKnlypJ"
      },
      "source": [
        "## Hamiltonian Monte Carlo (HMC) の概説\n",
        "* ここでは直感的な説明をするにとどめる。\n",
        "* Stanのマニュアルを参考にした。\n",
        " * https://mc-stan.org/docs/reference-manual/hamiltonian-monte-carlo.html\n",
        "* その他の参考資料\n",
        " * https://ryokamoi.github.io/blog/tech/2018/12/09/hmc"
      ]
    },
    {
      "cell_type": "markdown",
      "metadata": {
        "id": "UMASre3XmJ_5"
      },
      "source": [
        "### 補助変数\n",
        "* 密度関数$p(\\theta)$からのサンプリングを実現したいとする。\n",
        " * $p(\\theta)$については、規格化定数は不明でも構わない。\n",
        "* HMCでは、補助変数$\\rho$を追加し、同時分布$p(\\rho, \\theta) = p(\\rho|\\theta)p(\\theta)$からのサンプリングをおこなう。\n",
        "* 多くの場合（Stanでも）、$\\rho$の値が従う分布は、$\\theta$に依存しない多変量正規分布だと仮定する。\n",
        "$$\\rho \\sim \\text{MultiNormal}(0, M)$$\n",
        " * $M$は対角成分しか持たないらしい（Stanのマニュアル参照）。"
      ]
    },
    {
      "cell_type": "markdown",
      "metadata": {
        "id": "HeYn0D0in9cG"
      },
      "source": [
        "### leapfrogアルゴリズム\n",
        "* $V(\\theta) \\equiv - \\ln p(\\theta)$および$H(\\rho, \\theta) = - \\ln p(\\rho, \\theta)$と定義する。\n",
        "* leapfrogアルゴリズムでは、以下のように$\\theta$を更新することで、サンプルのchainを作る。\n",
        "\n",
        "1. $\\rho$を$\\text{MultiNormal}(0,M)$からdraw\n",
        "2. 以下の一連の更新式を$L$回繰り返し実行する。\n",
        "$$\\begin{align}\n",
        "\\rho & \\leftarrow \\rho - \\frac{\\epsilon}{2}\\frac{\\partial V}{\\partial \\theta}\n",
        "\\notag \\\\\n",
        "\\theta & \\leftarrow \\theta + \\epsilon M^{-1}\\rho\n",
        "\\notag \\\\\n",
        "\\rho & \\leftarrow \\rho - \\frac{\\epsilon}{2}\\frac{\\partial V}{\\partial \\theta}\n",
        "\\end{align}$$\n",
        " * この結果、$\\rho$は$\\rho^*$へ、$\\theta$は$\\theta^*$へ、それぞれ更新されたとする。\n",
        "3. この$\\rho^*, \\theta^*$を、確率$\\min(1, \\exp(H(\\rho, \\theta) - H(\\rho^*, \\theta^*)))$で、次のサンプルとして採用する。\n",
        " * 採用されなければ、元の$\\rho,\\theta$をそのまま次でも使う。\n",
        "\n"
      ]
    },
    {
      "cell_type": "markdown",
      "metadata": {
        "id": "8koKneC8riMZ"
      },
      "source": [
        "### the no-U-turn sampling (NUTS) アルゴリズム\n",
        "* leapfrogアルゴリズムで、$M$と$\\epsilon$と$L$は、適切に調整すべきパラメータである。\n",
        "* これらのパラメータを自動的に調整するアルゴリズムとしてHoffmanとGelmanにより提案されたのが、no-U-turn sampling (NUTS)。（終）"
      ]
    },
    {
      "cell_type": "markdown",
      "metadata": {
        "id": "IDokSLBIslcc"
      },
      "source": [
        "### divergence\n",
        "* leapfrogアルゴリズムは、$\\frac{\\partial V}{\\partial \\theta}$を使っている。\n",
        "* 雰囲気を言うと、これは、本当なら$p(\\theta)$の地形に沿って滑らかに動きたいところを、一階の微分を使って近似的に動いている。\n",
        "* 近似であるため、本当ならそう動きたいという軌道から、外れてしまうこともある。\n",
        "* この外れ方が非常に大きくなってしまうことを、divergenceと呼ぶ。\n",
        "* divergenceが大きいと、得られたサンプルchainが所望の密度関数からのサンプルchainとみなせない。\n",
        " * MCMCの診断については、次回、説明する。"
      ]
    },
    {
      "cell_type": "markdown",
      "source": [
        "# 課題3\n",
        "* 次のモデル2について、データ分析を実践してみよう。\n",
        "* ヒント： 使用する説明変数を置き換えればいいだけ。"
      ],
      "metadata": {
        "id": "SvS_UBTOzFdB"
      }
    },
    {
      "cell_type": "markdown",
      "source": [
        "## モデル2: 婚姻年齢の中央値による予測"
      ],
      "metadata": {
        "id": "QHsYI5dwzBlU"
      }
    },
    {
      "cell_type": "code",
      "source": [],
      "metadata": {
        "id": "Wwh-Ucmkz-Pa"
      },
      "execution_count": null,
      "outputs": []
    },
    {
      "cell_type": "code",
      "source": [],
      "metadata": {
        "id": "ciDPy-IEz-Gj"
      },
      "execution_count": null,
      "outputs": []
    },
    {
      "cell_type": "code",
      "source": [],
      "metadata": {
        "id": "h7E6bxquz96U"
      },
      "execution_count": null,
      "outputs": []
    },
    {
      "cell_type": "code",
      "source": [],
      "metadata": {
        "id": "IDDjofNLTFK0"
      },
      "execution_count": null,
      "outputs": []
    }
  ]
}