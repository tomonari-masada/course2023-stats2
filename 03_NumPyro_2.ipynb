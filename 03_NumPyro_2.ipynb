{
  "nbformat": 4,
  "nbformat_minor": 0,
  "metadata": {
    "colab": {
      "provenance": [],
      "authorship_tag": "ABX9TyOfwuJHUvoduEaZLQyO8NML",
      "include_colab_link": true
    },
    "kernelspec": {
      "name": "python3",
      "display_name": "Python 3"
    }
  },
  "cells": [
    {
      "cell_type": "markdown",
      "metadata": {
        "id": "view-in-github",
        "colab_type": "text"
      },
      "source": [
        "<a href=\"https://colab.research.google.com/github/tomonari-masada/course2023-stats2/blob/main/03_NumPyro_2.ipynb\" target=\"_parent\"><img src=\"https://colab.research.google.com/assets/colab-badge.svg\" alt=\"Open In Colab\"/></a>"
      ]
    },
    {
      "cell_type": "markdown",
      "metadata": {
        "id": "kPliufI5JIBN"
      },
      "source": [
        "# NumPyro入門 (2)"
      ]
    },
    {
      "cell_type": "markdown",
      "metadata": {
        "id": "aAmsZdwhg4tg"
      },
      "source": [
        "## 準備"
      ]
    },
    {
      "cell_type": "code",
      "source": [
        "!pip install arviz\n",
        "!pip install numpyro"
      ],
      "metadata": {
        "id": "9KN9Ftf4MW2g"
      },
      "execution_count": null,
      "outputs": []
    },
    {
      "cell_type": "code",
      "metadata": {
        "id": "nFHGDAKVsWK8"
      },
      "source": [
        "import matplotlib.pyplot as plt\n",
        "import numpy as np\n",
        "import pandas as pd\n",
        "\n",
        "import jax\n",
        "from jax import random\n",
        "import numpyro\n",
        "import numpyro.distributions as dist\n",
        "from numpyro.infer import NUTS, MCMC, Predictive\n",
        "\n",
        "import arviz as az\n",
        "\n",
        "%config InlineBackend.figure_format = 'retina'\n",
        "\n",
        "rng_key = random.PRNGKey(0)\n",
        "az.style.use(\"arviz-darkgrid\")\n",
        "numpyro.set_platform(\"cpu\")"
      ],
      "execution_count": null,
      "outputs": []
    },
    {
      "cell_type": "markdown",
      "metadata": {
        "id": "zC1xWo9kg-Hd"
      },
      "source": [
        "## NumPyroによるMCMC"
      ]
    },
    {
      "cell_type": "markdown",
      "metadata": {
        "id": "pmc9Wooutk-a"
      },
      "source": [
        "### MCMC（マルコフ連鎖モンテカルロ）とは\n",
        "* ベイズ的なモデリングにおいて、事後分布を知ろうとする方法の一つ。\n",
        " * もう一つの方法に、変分推論(variational inference)がある。\n",
        "* MCMCは、事後分布からのサンプルを通して、事後分布そのものを知ろうとする方法。\n",
        "* モデルが複雑になるほど、事後分布$p(\\theta|X)$からのサンプリングは、難しくなっていく。\n",
        " * 比較的シンプルなモデルについては、うまいサンプリング手法を構成できる（例：LDAのcollapsed Gibbs sampling）。\n",
        "* この授業では、MCMCの実際上の使い方を説明する。理屈はあまり説明しない。"
      ]
    },
    {
      "cell_type": "markdown",
      "metadata": {
        "id": "cZI0SFmOhSac"
      },
      "source": [
        "### NumPyroにおける確率モデルの定義"
      ]
    },
    {
      "cell_type": "markdown",
      "metadata": {
        "id": "U4hYakkIrjMB"
      },
      "source": [
        "* NumPyroでは、ベイズ的モデルを関数として定義する。"
      ]
    },
    {
      "cell_type": "markdown",
      "metadata": {
        "id": "F3sI4QSir-1E"
      },
      "source": [
        "**例題**\n",
        " * 数値データがたくさんある。標準偏差は1らしい。平均は0に近いが、0からずれているかもしれない。この平均を知りたい。\n",
        " * ベイズ的なモデリングによって、平均がいくらの可能性がどのくらいあるかを表す、事後分布を得ることにする。\n",
        "\n",
        "* そこで、下記のモデルを使う（前回すでに使っていたモデル）。\n",
        "$$ \\mu \\sim N(0, 0.5) $$\n",
        "$$ x \\sim N(\\mu, 1) $$\n",
        " * 事後分布は$p(\\mu|X)=\\frac{p(X|\\mu)p(\\mu)}{p(X)}=\\frac{p(\\mu)\\prod_{i=1}^N p(x_i|\\mu)}{p(X)}$"
      ]
    },
    {
      "cell_type": "markdown",
      "source": [
        "* 観測データは乱数で準備する。"
      ],
      "metadata": {
        "id": "2tATmlfeNOK3"
      }
    },
    {
      "cell_type": "code",
      "metadata": {
        "id": "2C5CvxSrOVKS"
      },
      "source": [
        "rng_key, rng_key_ = random.split(rng_key)\n",
        "observed = jax.random.normal(rng_key_, (100,))"
      ],
      "execution_count": null,
      "outputs": []
    },
    {
      "cell_type": "markdown",
      "source": [
        "* 上述のモデルをNumPyroで書くと、以下のようになる。"
      ],
      "metadata": {
        "id": "qL2rPHgENQvM"
      }
    },
    {
      "cell_type": "code",
      "metadata": {
        "id": "usiGIsZDhAHk"
      },
      "source": [
        "def model(data=None):\n",
        "  mu = numpyro.sample(\"mu\", dist.Normal(0, 0.5))\n",
        "  obs = numpyro.sample(\"obs\", dist.Normal(mu, 1), obs=data)"
      ],
      "execution_count": null,
      "outputs": []
    },
    {
      "cell_type": "markdown",
      "metadata": {
        "id": "nlDhIWdfLPYw"
      },
      "source": [
        "### NumPyroによるMCMCの実行"
      ]
    },
    {
      "cell_type": "markdown",
      "metadata": {
        "id": "p8dOV2RusJCj"
      },
      "source": [
        "* `mu`が従う事後分布$p(\\mu|X)$からサンプルを得るには、以下のようにすればよい。\n",
        "* `num_warmup`は、最初の何個のサンプルを捨てるかを指定する引数。\n",
        " * MCMCで得られるサンプルは、最初のほうのものは、通常、捨てる。"
      ]
    },
    {
      "cell_type": "code",
      "metadata": {
        "id": "y6GSa2CtsIt5"
      },
      "source": [
        "kernel = NUTS(model)\n",
        "mcmc = MCMC(kernel, num_warmup=1000, num_samples=2000, num_chains=4)\n",
        "rng_key, rng_key_ = random.split(rng_key)\n",
        "mcmc.run(rng_key_, data=observed)"
      ],
      "execution_count": null,
      "outputs": []
    },
    {
      "cell_type": "markdown",
      "metadata": {
        "id": "7e1ElIUCvMJG"
      },
      "source": [
        "* chainとは、サンプルの一つの系列のこと。\n",
        "* MCMCによるサンプリングでは、直前のサンプルを少し変化させることで、次のサンプルを求める。\n",
        " * 前回説明したとおり、この変化のさせ方が賢いので、ちゃんと事後分布からのサンプルになる。\n",
        "* ということは、サンプルは、初期値から始まって、一筋の系列をなしている。この系列をchainと呼ぶ。\n",
        "* chainが一つだけだと心もとないので、普通は、複数のchainを走らせる。\n",
        " * 別々のchainで、サンプルの分布が大きく違っていたりすると、何かがおかしいと分かる。"
      ]
    },
    {
      "cell_type": "markdown",
      "metadata": {
        "id": "_Qs3O--6FI9M"
      },
      "source": [
        "* NUTS (No-U-Turn-Sampler) は、よく使われるサンプラー。\n",
        "* HMCの改良版。詳細は割愛するが、おおよその説明は後ほど。\n",
        " * https://mc-stan.org/docs/reference-manual/hmc.html\n",
        " * https://arxiv.org/abs/1111.4246"
      ]
    },
    {
      "cell_type": "markdown",
      "source": [
        "* サンプルの統計量を見てみる。"
      ],
      "metadata": {
        "id": "e2ffKSpHN7AY"
      }
    },
    {
      "cell_type": "code",
      "source": [
        "mcmc.print_summary()"
      ],
      "metadata": {
        "id": "_ZL3w78DN1iG"
      },
      "execution_count": null,
      "outputs": []
    },
    {
      "cell_type": "markdown",
      "metadata": {
        "id": "PMlqIbrRpcdl"
      },
      "source": [
        "**注意** divergenceが0でなかったら、色々と考え直す必要がある。（後の回で説明します。）\n",
        " "
      ]
    },
    {
      "cell_type": "markdown",
      "source": [
        "* サンプルを取得する。"
      ],
      "metadata": {
        "id": "TmJURjWwOv5P"
      }
    },
    {
      "cell_type": "code",
      "source": [
        "samples = mcmc.get_samples()\n",
        "samples"
      ],
      "metadata": {
        "id": "zti4SEdIOxzn"
      },
      "execution_count": null,
      "outputs": []
    },
    {
      "cell_type": "code",
      "source": [
        "type(samples['mu'])"
      ],
      "metadata": {
        "id": "p5LwkO2YO4j6"
      },
      "execution_count": null,
      "outputs": []
    },
    {
      "cell_type": "markdown",
      "source": [
        "* Numpyのndarrayに変換"
      ],
      "metadata": {
        "id": "7ciCIUvbPro5"
      }
    },
    {
      "cell_type": "code",
      "source": [
        "type(np.array(samples['mu']))"
      ],
      "metadata": {
        "id": "SNeeNMeGPM5O"
      },
      "execution_count": null,
      "outputs": []
    },
    {
      "cell_type": "markdown",
      "metadata": {
        "id": "z2j7SnW9wvpd"
      },
      "source": [
        "* ArviZ向けのデータへ変換する。\n",
        " * こうすると、ArviZの様々な機能が使えるようになる。"
      ]
    },
    {
      "cell_type": "code",
      "metadata": {
        "id": "ht586H8Oticx"
      },
      "source": [
        "idata = az.from_numpyro(mcmc)\n",
        "idata"
      ],
      "execution_count": null,
      "outputs": []
    },
    {
      "cell_type": "markdown",
      "metadata": {
        "id": "VfUPopWpFcpU"
      },
      "source": [
        "* 上の実行例では、chainは4本あり、それぞれ2000のサンプルから成っている。"
      ]
    },
    {
      "cell_type": "code",
      "metadata": {
        "id": "Cg_6wgviwiua"
      },
      "source": [
        "idata.posterior[\"mu\"].shape"
      ],
      "execution_count": null,
      "outputs": []
    },
    {
      "cell_type": "markdown",
      "metadata": {
        "id": "TrkAuHoZQlyH"
      },
      "source": [
        "* 特定のchainだけ選ぶ方法は以下の通り。"
      ]
    },
    {
      "cell_type": "code",
      "metadata": {
        "id": "qVSjIACwxILd"
      },
      "source": [
        "idata.posterior[\"mu\"].sel(chain=0).shape"
      ],
      "execution_count": null,
      "outputs": []
    },
    {
      "cell_type": "markdown",
      "metadata": {
        "id": "fdkx-5zfEP2O"
      },
      "source": [
        "* 特定のchainの、最初の10個のサンプルだけ見てみる。"
      ]
    },
    {
      "cell_type": "code",
      "metadata": {
        "id": "qOHqUpIpxJpD"
      },
      "source": [
        "idata.posterior[\"mu\"].sel(chain=0)[:10]"
      ],
      "execution_count": null,
      "outputs": []
    },
    {
      "cell_type": "markdown",
      "metadata": {
        "id": "xi1rPz2hQ3YW"
      },
      "source": [
        "* chainの中身のデータ型はxarrayの配列。\n",
        " * NumPyの配列とは違う。"
      ]
    },
    {
      "cell_type": "code",
      "metadata": {
        "id": "SvfXiZ39xP2U"
      },
      "source": [
        "type(idata.posterior[\"mu\"])"
      ],
      "execution_count": null,
      "outputs": []
    },
    {
      "cell_type": "markdown",
      "metadata": {
        "id": "AKzVBjMLT7wo"
      },
      "source": [
        "* `.data`でndarrayへ変換できる。"
      ]
    },
    {
      "cell_type": "code",
      "metadata": {
        "id": "PoF2wR5HT0CY"
      },
      "source": [
        "type(idata.posterior[\"mu\"].data)"
      ],
      "execution_count": null,
      "outputs": []
    },
    {
      "cell_type": "code",
      "metadata": {
        "id": "-EYDIEDLUI4e"
      },
      "source": [
        "idata.posterior[\"mu\"].data.shape"
      ],
      "execution_count": null,
      "outputs": []
    },
    {
      "cell_type": "markdown",
      "metadata": {
        "id": "jRGDBA6uRKzM"
      },
      "source": [
        "* サンプルのヒストグラムを描くと、事後分布の大体の形が分かる。\n",
        "* ここでは、あえて、arvizを使わずにヒストグラムを描いてみる。"
      ]
    },
    {
      "cell_type": "code",
      "metadata": {
        "id": "SIV0-6qERTFK"
      },
      "source": [
        "import seaborn as sns\n",
        "\n",
        "df = pd.DataFrame(data=idata.posterior[\"mu\"].data.T)\n",
        "sns.displot(df, kind=\"kde\", rug=True);"
      ],
      "execution_count": null,
      "outputs": []
    },
    {
      "cell_type": "markdown",
      "metadata": {
        "id": "9IcGhJ8MPJ1h"
      },
      "source": [
        "* とはいえ、やはり`arviz`を使う方が良い。"
      ]
    },
    {
      "cell_type": "code",
      "metadata": {
        "id": "_P4bL8d4PN22"
      },
      "source": [
        "az.plot_trace(idata);"
      ],
      "execution_count": null,
      "outputs": []
    },
    {
      "cell_type": "markdown",
      "metadata": {
        "id": "RnuiNxpuRjMg"
      },
      "source": [
        "* さて、chainが４本からなるこのサンプルは、うまく事後分布を表しているのだろうか？\n",
        " * 以下、サンプルの分析手法を紹介する。"
      ]
    },
    {
      "cell_type": "markdown",
      "metadata": {
        "id": "NYlZyq7fhT8s"
      },
      "source": [
        "## MCMCの結果の分析\n",
        " * https://github.com/pymc-devs/pymc-examples/blob/main/examples/diagnostics_and_criticism/Diagnosing_biased_Inference_with_Divergences.ipynb\n",
        " * https://www.statlect.com/fundamentals-of-statistics/Markov-Chain-Monte-Carlo-diagnostics"
      ]
    },
    {
      "cell_type": "markdown",
      "metadata": {
        "id": "ybZqOrvYx8Ev"
      },
      "source": [
        "* MCMCを使うときには、得られたchainの良し悪しを気にしないといけない。\n",
        "* 例えば、chainが事後分布の定義域のごく狭い範囲しか踏査していないかもしれない。"
      ]
    },
    {
      "cell_type": "markdown",
      "metadata": {
        "id": "TCXKotlISsf-"
      },
      "source": [
        "\n",
        "**例題**\n",
        "* 観測データは正規分布$N(\\mu, \\sigma^2)$に従うと仮定。\n",
        "* $\\mu$と$\\sigma$について事前分布を導入。\n",
        "$$\\begin{align}\n",
        "\\mu & \\sim N(0, 10) \\\\\n",
        "\\sigma & \\sim \\text{HalfNormal}(1) \\\\\n",
        "x & \\sim N(\\mu, \\sigma^2)\n",
        "\\end{align}$$\n",
        " * [half-normal分布](https://en.wikipedia.org/wiki/Half-normal_distribution)は、平均0の正規分布に従う確率変数の絶対値が従う分布。\n",
        " "
      ]
    },
    {
      "cell_type": "code",
      "metadata": {
        "id": "woHITndLPT2Q"
      },
      "source": [
        "def model(data=None):\n",
        "  mu = numpyro.sample(\"mu\", dist.Normal(0, 10))\n",
        "  sd = numpyro.sample(\"sd\", dist.HalfNormal(1))\n",
        "  obs = numpyro.sample(\"obs\", dist.Normal(mu, sd), obs=data)"
      ],
      "execution_count": null,
      "outputs": []
    },
    {
      "cell_type": "code",
      "metadata": {
        "id": "DmRb7fpdSnma"
      },
      "source": [
        "kernel = NUTS(model)\n",
        "mcmc = MCMC(kernel, num_warmup=10, num_samples=1000, num_chains=4)\n",
        "rng_key, rng_key_ = random.split(rng_key)\n",
        "mcmc.run(rng_key_, data=observed)"
      ],
      "execution_count": null,
      "outputs": []
    },
    {
      "cell_type": "markdown",
      "metadata": {
        "id": "_f-TzbSXTQTt"
      },
      "source": [
        "* arvizでサンプルを可視化する。\n",
        " * デフォルトではkernel density estimates。ヒストグラムも選べる。\n",
        " * 全サンプルのプロットも右半分に描かれる。"
      ]
    },
    {
      "cell_type": "code",
      "source": [
        "idata = az.from_numpyro(mcmc)\n",
        "idata"
      ],
      "metadata": {
        "id": "Hs5TiJlDRzQU"
      },
      "execution_count": null,
      "outputs": []
    },
    {
      "cell_type": "code",
      "metadata": {
        "id": "2E862XYTTMv3"
      },
      "source": [
        "az.plot_trace(idata);"
      ],
      "execution_count": null,
      "outputs": []
    },
    {
      "cell_type": "markdown",
      "metadata": {
        "id": "ovf1pNthr2BO"
      },
      "source": [
        "* pair plotで2変数の分布を同時に見る。\n",
        " * 周辺分布も表示させることができる。\n",
        "\n",
        "$$\\begin{align}\n",
        "p(\\mu, \\sigma | X) & \\propto p(X | \\mu, \\sigma) p(\\mu) p(\\sigma) & {（事後分布）} \\\\\n",
        "p(\\mu | X) & = \\int p(\\mu, \\sigma | X) d\\sigma & \\mbox{（$\\mu$の周辺事後分布）} \\\\\n",
        "p(\\sigma | X) & = \\int p(\\mu, \\sigma | X) d\\mu & \\mbox{（$\\sigma$の周辺事後分布）}\n",
        "\\end{align}$$"
      ]
    },
    {
      "cell_type": "code",
      "metadata": {
        "id": "2tKoaZy-lQq8"
      },
      "source": [
        "az.plot_pair(idata, marginals=True, divergences=True);"
      ],
      "execution_count": null,
      "outputs": []
    },
    {
      "cell_type": "markdown",
      "metadata": {
        "id": "BT0O2CVnYLhf"
      },
      "source": [
        "### 自己相関\n",
        "* 自己相関は小さいほど良い。\n",
        " * 小さいほど、サンプルが相互に独立だとみなせる。\n",
        "* 比較的大きなラグ(lag)でも相関が0に近くない場合は、問題あり。\n",
        "* 参考資料\n",
        " * https://www.statlect.com/fundamentals-of-statistics/autocorrelation\n"
      ]
    },
    {
      "cell_type": "code",
      "metadata": {
        "id": "nM7OzyNkYJv9"
      },
      "source": [
        "az.plot_autocorr(idata, var_names=[\"mu\", \"sd\"]);"
      ],
      "execution_count": null,
      "outputs": []
    },
    {
      "cell_type": "markdown",
      "metadata": {
        "id": "r901fm1AYbVI"
      },
      "source": [
        "* 横軸がラグ。"
      ]
    },
    {
      "cell_type": "markdown",
      "metadata": {
        "id": "DeIP65oEX1RE"
      },
      "source": [
        "### Gelman-Rubin統計量\n",
        "* 定量的にサンプルの良し悪しを分析できる。\n",
        "* R-hatと呼ばれる値が1に近いほど、連鎖の分布がより収束している。\n",
        " * https://mc-stan.org/docs/reference-manual/analysis.html を参照。\n",
        " * http://www.omori.e.u-tokyo.ac.jp/MCMC/mcmc.pdf の6.2.2を参照。\n",
        "* R-hatは1.05より小さいことが望ましいらしい。\n",
        " * https://www.youtube.com/watch?v=WbNmcvxRwow"
      ]
    },
    {
      "cell_type": "code",
      "metadata": {
        "id": "1IXrbuIlXQpp"
      },
      "source": [
        "az.summary(idata)"
      ],
      "execution_count": null,
      "outputs": []
    },
    {
      "cell_type": "markdown",
      "metadata": {
        "id": "K-5cETGcUsNt"
      },
      "source": [
        "* mcse, essについては、下記を参照。\n",
        " * https://mc-stan.org/docs/2_26/reference-manual/effective-sample-size-section.html"
      ]
    },
    {
      "cell_type": "markdown",
      "metadata": {
        "id": "GaYvK-QVYrSC"
      },
      "source": [
        " ### 3.3.4 HDI (highest density interval)\n",
        "* HDIが何であるかについては下記を参照。\n",
        " * http://web.sfc.keio.ac.jp/~maunz/BS14/BS14-11.pdf\n",
        " * https://www.sciencedirect.com/topics/mathematics/highest-density-interval \n",
        "* arvizのforest plot\n",
        "  * デフォルトではHDI=94.0%の区間を図示する。\n",
        "  * r_hat=TrueでR-hat統計量も図示する。"
      ]
    },
    {
      "cell_type": "code",
      "metadata": {
        "id": "EQDSgJdZYqwj"
      },
      "source": [
        "az.plot_forest(idata, r_hat=True);"
      ],
      "execution_count": null,
      "outputs": []
    },
    {
      "cell_type": "markdown",
      "metadata": {
        "id": "L5QYfBDsGVjV"
      },
      "source": [
        "* ridge plot"
      ]
    },
    {
      "cell_type": "code",
      "metadata": {
        "id": "rpnLOHl9GVBk"
      },
      "source": [
        "axes = az.plot_forest(idata,\n",
        "                      kind='ridgeplot',\n",
        "                      ridgeplot_truncate=False,\n",
        "                      ridgeplot_quantiles=[.25, .5, .75],\n",
        "                      ridgeplot_alpha=.7,\n",
        "                      colors='white',\n",
        "                      figsize=(9, 7))\n",
        "axes[0].set_title('Estimated mu and sd');"
      ],
      "execution_count": null,
      "outputs": []
    },
    {
      "cell_type": "markdown",
      "metadata": {
        "id": "CcJBx8fdZjMP"
      },
      "source": [
        "* 似ているが別の可視化。\n",
        " * https://sites.google.com/site/doingbayesiandataanalysis/ この本の流儀による可視化だそうです（がよく知りません・・・）。\n",
        " * これが分かりやすいかもしれません。"
      ]
    },
    {
      "cell_type": "code",
      "metadata": {
        "id": "JQK41fj2ZPWH"
      },
      "source": [
        "az.plot_posterior(idata);"
      ],
      "execution_count": null,
      "outputs": []
    },
    {
      "cell_type": "markdown",
      "metadata": {
        "id": "9cPdZZZ1R8H4"
      },
      "source": [
        "\n",
        "\n",
        "---\n",
        "\n",
        "\n",
        "\n",
        "---\n",
        "\n"
      ]
    },
    {
      "cell_type": "markdown",
      "metadata": {
        "id": "KHhlheKnlypJ"
      },
      "source": [
        "## Hamiltonian Monte Carlo (HMC)\n",
        "* ここでは直感的な説明をするにとどめる。\n",
        "* Stanのマニュアルを参考にした。\n",
        " * https://mc-stan.org/docs/reference-manual/hamiltonian-monte-carlo.html\n",
        "* その他の参考資料\n",
        " * https://ryokamoi.github.io/blog/tech/2018/12/09/hmc"
      ]
    },
    {
      "cell_type": "markdown",
      "metadata": {
        "id": "UMASre3XmJ_5"
      },
      "source": [
        "### 補助変数\n",
        "* 密度関数$p(\\theta)$からのサンプリングを実現したいとする。\n",
        " * $p(\\theta)$については、規格化定数は不明でも構わない。\n",
        "* HMCでは、補助変数$\\rho$を追加し、同時分布$p(\\rho, \\theta) = p(\\rho|\\theta)p(\\theta)$からのサンプリングをおこなう。\n",
        "* 多くの場合（Stanでも）、$\\rho$の値が従う分布は、$\\theta$に依存しない多変量正規分布だと仮定する。\n",
        "$$\\rho \\sim \\text{MultiNormal}(0, M)$$\n",
        " * $M$は対角成分しか持たないらしい（Stanのマニュアル参照）。"
      ]
    },
    {
      "cell_type": "markdown",
      "metadata": {
        "id": "HeYn0D0in9cG"
      },
      "source": [
        "### leapfrogアルゴリズム\n",
        "* $V(\\theta) \\equiv - \\ln p(\\theta)$および$H(\\rho, \\theta) = - \\ln p(\\rho, \\theta)$と定義する。\n",
        "* leapfrogアルゴリズムでは、以下のように$\\theta$を更新することで、サンプルのchainを作る。\n",
        "\n",
        "1. $\\rho$を$\\text{MultiNormal}(0,M)$からdraw\n",
        "2. 以下の一連の更新式を$L$回繰り返し実行する。\n",
        "$$\\begin{align}\n",
        "\\rho & \\leftarrow \\rho - \\frac{\\epsilon}{2}\\frac{\\partial V}{\\partial \\theta}\n",
        "\\notag \\\\\n",
        "\\theta & \\leftarrow \\theta + \\epsilon M^{-1}\\rho\n",
        "\\notag \\\\\n",
        "\\rho & \\leftarrow \\rho - \\frac{\\epsilon}{2}\\frac{\\partial V}{\\partial \\theta}\n",
        "\\end{align}$$\n",
        " * この結果、$\\rho$は$\\rho^*$へ、$\\theta$は$\\theta^*$へ、それぞれ更新されたとする。\n",
        "3. この$\\rho^*, \\theta^*$を、確率$\\min(1, \\exp(H(\\rho, \\theta) - H(\\rho^*, \\theta^*)))$で、次のサンプルとして採用する。\n",
        " * 採用されなければ、元の$\\rho,\\theta$をそのまま次でも使う。\n",
        "\n"
      ]
    },
    {
      "cell_type": "markdown",
      "metadata": {
        "id": "8koKneC8riMZ"
      },
      "source": [
        "### the no-U-turn sampling (NUTS) アルゴリズム\n",
        "* leapfrogアルゴリズムで、$M$と$\\epsilon$と$L$は、適切に調整すべきパラメータである。\n",
        "* これらのパラメータを自動的に調整するアルゴリズムとしてHoffmanとGelmanにより提案されたのが、no-U-turn sampling (NUTS)。（終）"
      ]
    },
    {
      "cell_type": "markdown",
      "metadata": {
        "id": "IDokSLBIslcc"
      },
      "source": [
        "### divergence\n",
        "* leapfrogアルゴリズムは、$\\frac{\\partial V}{\\partial \\theta}$を使っている。\n",
        "* 雰囲気を言うと、これは、本当なら$p(\\theta)$の地形に沿って滑らかに動きたいところを、一階の微分を使って近似的に動いている。\n",
        "* 近似であるため、本当ならそう動きたいという軌道から、外れてしまうこともある。\n",
        "* この外れ方が非常に大きくなってしまうことを、divergenceと呼ぶ。\n",
        "* divergenceが大きいと、得られたサンプルchainが所望の密度関数からのサンプルchainとみなせない。"
      ]
    },
    {
      "cell_type": "markdown",
      "metadata": {
        "id": "SVZ6BKyS9KR7"
      },
      "source": [
        "# 課題3\n",
        "* HDIとは何かをしらべて、レポートしてください。"
      ]
    },
    {
      "cell_type": "code",
      "source": [],
      "metadata": {
        "id": "IDDjofNLTFK0"
      },
      "execution_count": null,
      "outputs": []
    }
  ]
}