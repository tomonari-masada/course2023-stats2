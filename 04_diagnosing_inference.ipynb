{
  "nbformat": 4,
  "nbformat_minor": 0,
  "metadata": {
    "colab": {
      "provenance": [],
      "authorship_tag": "ABX9TyNRT2ZjfYk9vBhUT3RAIyY2",
      "include_colab_link": true
    },
    "kernelspec": {
      "name": "python3",
      "display_name": "Python 3"
    },
    "language_info": {
      "name": "python"
    }
  },
  "cells": [
    {
      "cell_type": "markdown",
      "metadata": {
        "id": "view-in-github",
        "colab_type": "text"
      },
      "source": [
        "<a href=\"https://colab.research.google.com/github/tomonari-masada/course2023-stats2/blob/main/04_diagnosing_inference.ipynb\" target=\"_parent\"><img src=\"https://colab.research.google.com/assets/colab-badge.svg\" alt=\"Open In Colab\"/></a>"
      ]
    },
    {
      "cell_type": "markdown",
      "metadata": {
        "id": "NNwCHBb92l2R"
      },
      "source": [
        "# MCMCの診断\n",
        "* サンプリングがうまくいったかどうか、診断する方法がある。\n",
        "* うまくいっていない場合、パラメータの付け方を変えることで改良できる場合がある。\n",
        "* MCMCの診断については、下記Webページを参照のこと。\n",
        " * https://www.statlect.com/fundamentals-of-statistics/Markov-Chain-Monte-Carlo-diagnostics\n",
        " * https://mc-stan.org/docs/stan-users-guide/reparameterization.html"
      ]
    },
    {
      "cell_type": "markdown",
      "metadata": {
        "id": "knkHYjq64m7T"
      },
      "source": [
        "## 準備"
      ]
    },
    {
      "cell_type": "code",
      "source": [
        "!pip install arviz\n",
        "!pip install git+https://github.com/pyro-ppl/numpyro.git"
      ],
      "metadata": {
        "id": "vqqiWH2Xx1-q"
      },
      "execution_count": null,
      "outputs": []
    },
    {
      "cell_type": "code",
      "metadata": {
        "id": "BkDbfcnlvDG2"
      },
      "source": [
        "import matplotlib.pyplot as plt\n",
        "import numpy as np\n",
        "import pandas as pd\n",
        "import seaborn as sns\n",
        "\n",
        "import jax\n",
        "import jax.numpy as jnp\n",
        "from jax import random\n",
        "import numpyro\n",
        "from numpyro.diagnostics import hpdi\n",
        "import numpyro.distributions as dist\n",
        "from numpyro.infer import NUTS, MCMC, Predictive\n",
        "\n",
        "import arviz as az\n",
        "\n",
        "%config InlineBackend.figure_format = 'retina'\n",
        "\n",
        "plt.style.use(\"bmh\")\n",
        "rng_key = random.PRNGKey(0)\n",
        "az.style.use(\"arviz-darkgrid\")\n",
        "numpyro.set_platform(\"cpu\")"
      ],
      "execution_count": null,
      "outputs": []
    },
    {
      "cell_type": "markdown",
      "metadata": {
        "id": "jW9ns-GO2klD"
      },
      "source": [
        "## サンプリングがうまく行かない理由\n",
        "* 参考資料\n",
        " * https://mc-stan.org/docs/reference-manual/divergent-transitions.html\n",
        "* HMCは、勾配を使ってfirst-orderの近似を行っているため、high curvatureな場所では、本当に求めたいものから大きく外れてしまうことがある。すると、サンプリングがパラメータ空間内での単なるランダムウォークに近くなってしまい、密度関数の\"濃淡\"を反映しないものになってしまう。\n",
        " * 別の参考資料 https://norimune.net/3149"
      ]
    },
    {
      "cell_type": "markdown",
      "metadata": {
        "id": "nGhhTBTY4qeZ"
      },
      "source": [
        "## 例題1: Neal’s funnel\n",
        "* 下のような確率分布を考える( https://mc-stan.org/docs/stan-users-guide/reparameterization.html )。\n"
      ]
    },
    {
      "cell_type": "markdown",
      "source": [
        "$$\\begin{align} \n",
        "y & \\sim N(0, 3^2) \\\\\n",
        "x_i & \\sim N(0, e^y), \\text{ $i=1,\\ldots, 9$ }  \n",
        "\\end{align}$$\n"
      ],
      "metadata": {
        "id": "UWIRgmMpmcle"
      }
    },
    {
      "cell_type": "markdown",
      "metadata": {
        "id": "tkCL2f647Nyg"
      },
      "source": [
        "* 同時分布を式で書くと・・・\n",
        "$$p(y, x_1, \\ldots, x_9) = p(y) \\prod_{i=1}^9 p(x_i | y)$$\n",
        "where\n",
        "$$ p(y) = \\frac{1}{\\sqrt{2\\pi 3^2}} \\exp\\bigg( - \\frac{y^2}{2 \\times 3^2}\\bigg)  $$\n",
        "and\n",
        "$$ p(x_i | y) = \\frac{1}{\\sqrt{2\\pi e^y}} \\exp\\bigg( - \\frac{x_i^2}{2e^y} \\bigg) $$"
      ]
    },
    {
      "cell_type": "markdown",
      "metadata": {
        "id": "hjwLkUTH8t2s"
      },
      "source": [
        "* この分布の問題点\n",
        " * $y$の値が小さいとき、$x_i$の従う正規分布が、非常にpeakyな密度関数を持つ\n",
        " * 従って、サンプリングが困難になる。"
      ]
    },
    {
      "cell_type": "markdown",
      "metadata": {
        "id": "wsYHL4Nq5zkM"
      },
      "source": [
        "* 今回は、この分布からサンプリングする（＝この分布に従う乱数を発生させる）。\n",
        " * つまり、今日はベイズの話をするのではなく（＝事後分布からのサンプリングをするのではなく）・・・\n",
        " * NUTSサンプラーでもうまくいかない場合がどんな場合かを、単に説明する。"
      ]
    },
    {
      "cell_type": "markdown",
      "metadata": {
        "id": "rMgTpx2b6DrJ"
      },
      "source": [
        "### 実装方法 (1)\n",
        "* これは悪い実装方法。\n",
        " * divergent transitionが発生する。\n",
        " * さらに、周辺分布$p(y)$は正規分布となるはずなのに、ヒストグラムが全く正規分布の形にならない。"
      ]
    },
    {
      "cell_type": "code",
      "metadata": {
        "id": "Dp9Bb0yCuazz"
      },
      "source": [
        "def model():\n",
        "  y = numpyro.sample(\"y\", dist.Normal(0, 3))\n",
        "  x = numpyro.sample(\"x\", dist.Normal(jnp.zeros(9), jnp.exp(y/2)))"
      ],
      "execution_count": null,
      "outputs": []
    },
    {
      "cell_type": "markdown",
      "metadata": {
        "id": "Q_HKMyDiU4KN"
      },
      "source": [
        "* 　今回は、`return_inferencedata=True`と設定せず、arviz向けではない形式、元のPyMC3の形式で、サンプリング結果を得る\n",
        " * arviz向けのサンプリング結果で同じようにdivergenceの分析を行う方法は後で説明する。"
      ]
    },
    {
      "cell_type": "code",
      "metadata": {
        "id": "CcAqQzjZw7BH"
      },
      "source": [
        "rng_key, rng_key_ = random.split(rng_key)\n",
        "mcmc = MCMC(NUTS(model), num_warmup=1000, num_samples=2000, num_chains=4)\n",
        "mcmc.run(rng_key_)"
      ],
      "execution_count": null,
      "outputs": []
    },
    {
      "cell_type": "code",
      "metadata": {
        "id": "AesTzFf4WulB"
      },
      "source": [
        "mcmc.print_summary()"
      ],
      "execution_count": null,
      "outputs": []
    },
    {
      "cell_type": "markdown",
      "source": [
        "* 問題点\n",
        " * divergenceの値がゼロになっていない。\n",
        " * `y`の`n_eff`が非常に小さい。"
      ],
      "metadata": {
        "id": "sosTqhjVSOby"
      }
    },
    {
      "cell_type": "code",
      "metadata": {
        "id": "fKzIpKczN3i-"
      },
      "source": [
        "idata = az.from_numpyro(mcmc)\n",
        "idata"
      ],
      "execution_count": null,
      "outputs": []
    },
    {
      "cell_type": "markdown",
      "metadata": {
        "id": "0T8UuSHJG4uy"
      },
      "source": [
        "* divergenceとは\n",
        "\n",
        "> \"A divergence arises when the simulated Hamiltonian trajectory departs from the true trajectory as measured by departure of the Hamiltonian value from its initial value. When this divergence is too high, the simulation has gone off the rails and cannot be trusted. The positions along the simulated trajectory after the Hamiltonian diverges will never be selected as the next draw of the MCMC algorithm, potentially reducing Hamiltonian Monte Carlo to a simple random walk and biasing estimates by not being able to thoroughly explore the posterior distribution.\" ( https://mc-stan.org/docs/reference-manual/divergent-transitions.html )\n",
        "\n"
      ]
    },
    {
      "cell_type": "markdown",
      "metadata": {
        "id": "Br9z-k8dHU7U"
      },
      "source": [
        "* PyMC3でのdivergenceのチェック方法"
      ]
    },
    {
      "cell_type": "code",
      "metadata": {
        "id": "Dc-S2jWZzJPO"
      },
      "source": [
        "diverging = idata.sample_stats.diverging.data.flatten()\n",
        "diverging"
      ],
      "execution_count": null,
      "outputs": []
    },
    {
      "cell_type": "code",
      "metadata": {
        "id": "RE6KCHcPzM9k"
      },
      "source": [
        "diverging.sum()"
      ],
      "execution_count": null,
      "outputs": []
    },
    {
      "cell_type": "code",
      "metadata": {
        "id": "zYhKrKXeORPI"
      },
      "source": [
        "np.where(diverging)"
      ],
      "execution_count": null,
      "outputs": []
    },
    {
      "cell_type": "markdown",
      "metadata": {
        "id": "V0YBYFhnHdRF"
      },
      "source": [
        "* chainの中でdivergenceが発生したサンプルを赤で示してみる。\n",
        " * $x_1$だけに注目してプロットする。"
      ]
    },
    {
      "cell_type": "code",
      "metadata": {
        "id": "OuVOoXA-y5mT"
      },
      "source": [
        "x1 = idata.posterior['x'].data[:,:,0].flatten()\n",
        "y = idata.posterior['y'].data.flatten()\n",
        "\n",
        "plt.figure(figsize=(6, 6))\n",
        "plt.scatter(x1[~ diverging], y[~ diverging], color='g')\n",
        "plt.scatter(x1[diverging], y[diverging], color='r')\n",
        "plt.axis([-20, 20, -9, 9])\n",
        "plt.ylabel('y')\n",
        "plt.xlabel('x_1')\n",
        "plt.title('scatter plot between y and x_1');"
      ],
      "execution_count": null,
      "outputs": []
    },
    {
      "cell_type": "markdown",
      "metadata": {
        "id": "OMOutBQJXldX"
      },
      "source": [
        "* 上のプロットで分かるように、図の下の方の領域で全くサンプルが取られていない。"
      ]
    },
    {
      "cell_type": "markdown",
      "metadata": {
        "id": "px5OuIKMHl8t"
      },
      "source": [
        "* $y$のヒストグラムを確認する。\n",
        " * yの周辺分布（下の式）は正規分布になるはずだが・・・\n",
        "$$p(y) = \\idotsint p(y, x_1, \\ldots, x_9) dx_1 \\cdots dx_9$$"
      ]
    },
    {
      "cell_type": "code",
      "metadata": {
        "id": "82SVcnquzglV"
      },
      "source": [
        "sns.displot(y, kind=\"kde\");"
      ],
      "execution_count": null,
      "outputs": []
    },
    {
      "cell_type": "markdown",
      "metadata": {
        "id": "yYg8Nm6X6iDd"
      },
      "source": [
        "### 実装方法 (2)\n",
        "* これは、reparameterizationを使うことで改良された実装。\n",
        " * divergent transitionは起こらない。\n",
        " * $y$のサンプルのヒストグラムも正規分布の形を示す。"
      ]
    },
    {
      "cell_type": "markdown",
      "metadata": {
        "id": "6kUfU8ycINDZ"
      },
      "source": [
        "* 元のモデルは\n",
        "$$\\begin{align} \n",
        "y & \\sim N(0, 3^2) \\\\\n",
        "x_i & \\sim N(0, e^y), \\text{ $i=1,\\ldots, 9$ }  \n",
        "\\end{align}$$\n"
      ]
    },
    {
      "cell_type": "markdown",
      "metadata": {
        "id": "pBvdxv0LJP4D"
      },
      "source": [
        "* $x_i$を$N(0, e^y)$からサンプリングする、という実装をやめて、代わりに\n",
        " * まず$x_\\text{raw}$を$N(0,1)$からサンプリングし・・・\n",
        " * その$x_\\text{raw}$を$x = e^{y/2} x_\\text{raw}$という式で変換している。"
      ]
    },
    {
      "cell_type": "code",
      "metadata": {
        "id": "iuBGF_lS0NhF"
      },
      "source": [
        "def model_revised():\n",
        "  y = numpyro.sample(\"y\", dist.Normal(0, 3))\n",
        "  x_raw = numpyro.sample(\"x_raw\", dist.Normal(jnp.zeros(9), 1))\n",
        "  x = numpyro.deterministic(\"x\", jnp.exp(y/2) * x_raw)"
      ],
      "execution_count": null,
      "outputs": []
    },
    {
      "cell_type": "code",
      "metadata": {
        "id": "XBggIODC1sGU"
      },
      "source": [
        "rng_key, rng_key_ = random.split(rng_key)\n",
        "mcmc = MCMC(NUTS(model_revised), num_warmup=1000, num_samples=2000, num_chains=4)\n",
        "mcmc.run(rng_key_)"
      ],
      "execution_count": null,
      "outputs": []
    },
    {
      "cell_type": "code",
      "source": [
        "mcmc.print_summary()"
      ],
      "metadata": {
        "id": "Hv_t4MSqZJJG"
      },
      "execution_count": null,
      "outputs": []
    },
    {
      "cell_type": "code",
      "metadata": {
        "id": "KXB9P1J-1wnD"
      },
      "source": [
        "idata = az.from_numpyro(mcmc)\n",
        "\n",
        "diverging = idata.sample_stats.diverging.data.flatten()\n",
        "x1 = idata.posterior['x'].data[:,:,0].flatten()\n",
        "y = idata.posterior['y'].data.flatten()"
      ],
      "execution_count": null,
      "outputs": []
    },
    {
      "cell_type": "code",
      "metadata": {
        "id": "Pmdq6X2yQC-l"
      },
      "source": [
        "diverging.sum()"
      ],
      "execution_count": null,
      "outputs": []
    },
    {
      "cell_type": "code",
      "metadata": {
        "id": "7WuXXJnQ16od"
      },
      "source": [
        "plt.figure(figsize=(6, 6))\n",
        "plt.scatter(x1[~ diverging], y[~ diverging], color='g')\n",
        "plt.scatter(x1[diverging], y[diverging], color='r')\n",
        "plt.axis([-20, 20, -9, 9])\n",
        "plt.ylabel('y')\n",
        "plt.xlabel('x_1')\n",
        "plt.title('scatter plot between y and x_1');"
      ],
      "execution_count": null,
      "outputs": []
    },
    {
      "cell_type": "code",
      "metadata": {
        "id": "77MUwtt02GkE"
      },
      "source": [
        "sns.displot(y, kind=\"kde\");"
      ],
      "execution_count": null,
      "outputs": []
    },
    {
      "cell_type": "markdown",
      "metadata": {
        "id": "bJUU-_mT4AB0"
      },
      "source": [
        "## 例題2: The Eight Schools Model\n",
        "* 下記Webページにある「The Eight Schools Model」の実験を再現してみる。\n",
        " * https://github.com/pymc-devs/pymc-examples/blob/main/examples/diagnostics_and_criticism/Diagnosing_biased_Inference_with_Divergences.ipynb\n"
      ]
    },
    {
      "cell_type": "markdown",
      "metadata": {
        "id": "HFbEfpZPKMQI"
      },
      "source": [
        "\n",
        "\n",
        "> \"Hamiltonian Monte Carlo, for example, is especially powerful in this regard as its failures to be geometrically ergodic with respect to any target distribution manifest in distinct behaviors that have been developed into sensitive diagnostics. One of these behaviors is the appearance of divergences that indicate the Hamiltonian Markov chain has encountered regions of high curvature in the target distribution which it cannot adequately explore.\"\n",
        "\n"
      ]
    },
    {
      "cell_type": "markdown",
      "source": [
        "* この例題は、NumPyroのサイトでも触れられている。\n",
        " * https://num.pyro.ai/en/latest/getting_started.html"
      ],
      "metadata": {
        "id": "bT0JTDJTbLn3"
      }
    },
    {
      "cell_type": "markdown",
      "metadata": {
        "id": "KcClvGM-4DzJ"
      },
      "source": [
        "### データセット\n",
        "* `y`が観測データを表す確率変数\n",
        " * 各校で同じコーチングを実施し、その前後で学力テストの点数がどう変化したかを表す。\n",
        " * 正確には、この`y`は観測データではなく、8つの学校ごとに別々の回帰分析によって得られたestimates。\n",
        " * cf. https://arxiv.org/abs/1507.04544 のSection 4.1\n",
        "* `sigma`が既知のパラメータ\n",
        " * これも、8つの学校ごとに別々の回帰分析によって得られたstandard errors。"
      ]
    },
    {
      "cell_type": "code",
      "metadata": {
        "id": "0yf_sJfzgp8K"
      },
      "source": [
        "# Data of the Eight Schools Model\n",
        "y = jnp.asarray([28,  8, -3,  7, -1,  1, 18, 12], dtype=float)\n",
        "sigma = jnp.asarray([15, 10, 16, 11,  9, 11, 10, 18], dtype=float)\n",
        "J = y.shape[0]"
      ],
      "execution_count": null,
      "outputs": []
    },
    {
      "cell_type": "markdown",
      "metadata": {
        "id": "DwZlUnFaLJ75"
      },
      "source": [
        "* このデータを以下のようにモデリングする。\n",
        "$$\\begin{align}\n",
        "\\mu & \\sim N(0,5^2) \\notag \\\\\n",
        "\\tau & \\sim \\text{Half-Cauchy}(5) \\\\\n",
        "\\theta_n & \\sim N(\\mu, \\tau^2) \\\\\n",
        "y_n & \\sim N(\\theta_n, \\sigma_n^2)\n",
        "\\end{align}$$\n",
        " * $y_n$が上記コードの`y`に対応する。\n",
        " * $\\sigma_n$が上記コードの`sigma`に対応する。"
      ]
    },
    {
      "cell_type": "markdown",
      "metadata": {
        "id": "WbCX0lORKrbh"
      },
      "source": [
        "* Half-cauchy分布については下記ページを参照\n",
        " * https://distribution-explorer.github.io/continuous/halfcauchy.html\n",
        "> \"The Half-Cauchy distribution with 𝜇=0 is a useful prior for nonnegative parameters that may be very large, as allowed by the very heavy tails of the Half-Cauchy distribution.\""
      ]
    },
    {
      "cell_type": "markdown",
      "metadata": {
        "id": "oHoMnVGT4F2G"
      },
      "source": [
        "### 実装方法(1)\n",
        "* これは悪い実装方法。\n",
        " * 後でreparameterizationを使って改良する。"
      ]
    },
    {
      "cell_type": "code",
      "metadata": {
        "id": "nHcWdlj13gN0"
      },
      "source": [
        "def model():\n",
        "  mu = numpyro.sample(\"mu\", dist.Normal(0, 5))\n",
        "  tau = numpyro.sample(\"tau\", dist.HalfCauchy(5))\n",
        "  with numpyro.plate(\"J\", J):\n",
        "    theta = numpyro.sample(\"theta\", dist.Normal(mu, tau))\n",
        "    numpyro.sample('obs', dist.Normal(theta, sigma), obs=y)"
      ],
      "execution_count": null,
      "outputs": []
    },
    {
      "cell_type": "code",
      "metadata": {
        "id": "W5guqoqh3pAM"
      },
      "source": [
        "rng_key, rng_key_ = random.split(rng_key)\n",
        "mcmc = MCMC(NUTS(model), num_warmup=1000, num_samples=2000, num_chains=4)\n",
        "mcmc.run(rng_key_)"
      ],
      "execution_count": null,
      "outputs": []
    },
    {
      "cell_type": "code",
      "metadata": {
        "id": "0db0R0ut4ScK"
      },
      "source": [
        "mcmc.print_summary()"
      ],
      "execution_count": null,
      "outputs": []
    },
    {
      "cell_type": "code",
      "source": [
        "idata = az.from_numpyro(mcmc)"
      ],
      "metadata": {
        "id": "wh-5UNbXheHe"
      },
      "execution_count": null,
      "outputs": []
    },
    {
      "cell_type": "markdown",
      "metadata": {
        "id": "hReL9yShZS1F"
      },
      "source": [
        "* `r_hat`が1.0から離れているものもある。\n",
        "* 特に`tau`に問題がありそう。"
      ]
    },
    {
      "cell_type": "code",
      "metadata": {
        "id": "lrWbSJnZ5lRM"
      },
      "source": [
        "az.plot_trace(idata);"
      ],
      "execution_count": null,
      "outputs": []
    },
    {
      "cell_type": "markdown",
      "metadata": {
        "id": "HLYQcC0cWFBs"
      },
      "source": [
        "* このデータについては$\\tau$の\"真の値\"が分かっているらしい。\n",
        " * \"真の値\"の詳細は https://discourse.pymc.io/t/how-is-the-true-value-of-tau-in-the-eight-schools-model-known/1932\n",
        "* logスケールでプロットして、真の値からのズレを見てみる。\n",
        " * $\\log \\tau$の真の値は0.7657852らしいです。"
      ]
    },
    {
      "cell_type": "code",
      "metadata": {
        "id": "Q2V8dZkY5pF8"
      },
      "source": [
        "logtau = np.log(idata.posterior['tau'].data)\n",
        "plt.figure(figsize=(10, 3))\n",
        "plt.axhline(0.7657852, lw=2.5, color='gray')\n",
        "for j in range(logtau.shape[0]):\n",
        "  mlogtau = [np.mean(logtau[j,:i]) for i in np.arange(1, len(logtau[j]))]\n",
        "  plt.plot(mlogtau, lw=2)\n",
        "plt.ylim(0, 2)\n",
        "plt.xlabel('Iteration')\n",
        "plt.ylabel('MCMC mean of log(tau)')\n",
        "plt.title('MCMC estimation of log(tau)');"
      ],
      "execution_count": null,
      "outputs": []
    },
    {
      "cell_type": "markdown",
      "source": [
        "* いくつかのchainで、divergenceが発生したサンプルをプロットしてみる。"
      ],
      "metadata": {
        "id": "ci9OHptjpMpn"
      }
    },
    {
      "cell_type": "code",
      "metadata": {
        "id": "_LkxbQJ37i3l"
      },
      "source": [
        "chain_id = 0\n",
        "\n",
        "diverging = idata.sample_stats.diverging.data[chain_id]\n",
        "theta0 = idata.posterior['theta'][chain_id][:,0]\n",
        "\n",
        "plt.figure(figsize=(6, 4))\n",
        "plt.scatter(theta0[~diverging], logtau[chain_id][~diverging], color='g')\n",
        "plt.scatter(theta0[diverging], logtau[chain_id][diverging], color='r')\n",
        "plt.axis([-20, 50, -6, 4])\n",
        "plt.ylabel('log(tau)')\n",
        "plt.xlabel('theta[0]')\n",
        "plt.title('scatter plot between log(tau) and theta[0]');"
      ],
      "execution_count": null,
      "outputs": []
    },
    {
      "cell_type": "code",
      "metadata": {
        "id": "MMdXotfkFmpw"
      },
      "source": [
        "chain_id = 1\n",
        "\n",
        "diverging = idata.sample_stats.diverging.data[chain_id]\n",
        "theta0 = idata.posterior['theta'][chain_id][:,0]\n",
        "\n",
        "plt.figure(figsize=(6, 4))\n",
        "plt.scatter(theta0[~diverging], logtau[chain_id][~diverging], color='g')\n",
        "plt.scatter(theta0[diverging], logtau[chain_id][diverging], color='r')\n",
        "plt.axis([-20, 50, -6, 4])\n",
        "plt.ylabel('log(tau)')\n",
        "plt.xlabel('theta[0]')\n",
        "plt.title('scatter plot between log(tau) and theta[0]');"
      ],
      "execution_count": null,
      "outputs": []
    },
    {
      "cell_type": "markdown",
      "source": [
        "#### 自己相関\n",
        " * 自己相関は小さいほど良い。小さいほど、サンプルが相互に独立だとみなせる。\n",
        " * 比較的大きなラグ(lag)でも相関が0に近くない場合は、問題あり。\n",
        " * 参考資料\n",
        "  * https://www.statlect.com/fundamentals-of-statistics/autocorrelation"
      ],
      "metadata": {
        "id": "zYm5-hqgfcj-"
      }
    },
    {
      "cell_type": "code",
      "source": [
        "az.plot_autocorr(idata);"
      ],
      "metadata": {
        "id": "6RLA28wJfQyH"
      },
      "execution_count": null,
      "outputs": []
    },
    {
      "cell_type": "markdown",
      "metadata": {
        "id": "s1EGYvtRE41D"
      },
      "source": [
        "### 実装方法(2)\n",
        "* reparameterizationを使う。"
      ]
    },
    {
      "cell_type": "markdown",
      "source": [
        "* $\\theta_i$を$N(\\mu, \\tau)$からサンプリングする、という実装をやめて、代わりに\n",
        " * まず$\\tilde{\\theta}_i$を$N(0,1)$からサンプリングし・・・\n",
        " * その$\\tilde{\\theta}_i$を$\\theta_i = \\mu + \\tau \\tilde{\\theta}_i$という式で変換している。"
      ],
      "metadata": {
        "id": "Ql0NbRTRilwe"
      }
    },
    {
      "cell_type": "code",
      "metadata": {
        "id": "9Z7b01drDhWF"
      },
      "source": [
        "def model():\n",
        "  mu = numpyro.sample(\"mu\", dist.Normal(0, 5))\n",
        "  tau = numpyro.sample(\"tau\", dist.HalfCauchy(5))\n",
        "  with numpyro.plate(\"J\", J):\n",
        "    theta_tilde = numpyro.sample(\"theta_tilde\", dist.Normal(0, 1))\n",
        "    theta = numpyro.deterministic(\"theta\", mu + tau * theta_tilde)\n",
        "    numpyro.sample('obs', dist.Normal(theta, sigma), obs=y)"
      ],
      "execution_count": null,
      "outputs": []
    },
    {
      "cell_type": "code",
      "metadata": {
        "id": "fjGx2yf4Fy-I"
      },
      "source": [
        "rng_key, rng_key_ = random.split(rng_key)\n",
        "mcmc = MCMC(NUTS(model), num_warmup=1000, num_samples=2000, num_chains=4)\n",
        "mcmc.run(rng_key_)"
      ],
      "execution_count": null,
      "outputs": []
    },
    {
      "cell_type": "code",
      "metadata": {
        "id": "A9OrPQVOZPTj"
      },
      "source": [
        "mcmc.print_summary()"
      ],
      "execution_count": null,
      "outputs": []
    },
    {
      "cell_type": "code",
      "source": [
        "idata_revised = az.from_numpyro(mcmc)"
      ],
      "metadata": {
        "id": "GYqAcrG-hqLT"
      },
      "execution_count": null,
      "outputs": []
    },
    {
      "cell_type": "code",
      "metadata": {
        "id": "ERjMzUXvZdGC"
      },
      "source": [
        "az.plot_trace(idata_revised);"
      ],
      "execution_count": null,
      "outputs": []
    },
    {
      "cell_type": "code",
      "metadata": {
        "id": "DxFxZ3MCZjtx"
      },
      "source": [
        "logtau = np.log(idata_revised.posterior['tau'].data)\n",
        "plt.figure(figsize=(10, 3))\n",
        "plt.axhline(0.7657852, lw=2.5, color='gray')\n",
        "for j in range(logtau.shape[0]):\n",
        "  mlogtau = [np.mean(logtau[j,:i]) for i in np.arange(1, len(logtau[j]))]\n",
        "  plt.plot(mlogtau, lw=2)\n",
        "plt.ylim(0, 2)\n",
        "plt.xlabel('Iteration')\n",
        "plt.ylabel('MCMC mean of log(tau)')\n",
        "plt.title('MCMC estimation of log(tau)');"
      ],
      "execution_count": null,
      "outputs": []
    },
    {
      "cell_type": "code",
      "metadata": {
        "id": "snCLgAMbZpb-"
      },
      "source": [
        "chain_id = 0\n",
        "\n",
        "diverging = idata_revised.sample_stats.diverging.data[chain_id]\n",
        "theta0 = idata_revised.posterior['theta'][chain_id][:,0]\n",
        "\n",
        "plt.figure(figsize=(6, 4))\n",
        "plt.scatter(theta0[~diverging], logtau[chain_id][~diverging], color='g')\n",
        "plt.scatter(theta0[diverging], logtau[chain_id][diverging], color='r')\n",
        "plt.axis([-20, 50, -6, 4])\n",
        "plt.ylabel('log(tau)')\n",
        "plt.xlabel('theta[0]')\n",
        "plt.title('scatter plot between log(tau) and theta[0]');"
      ],
      "execution_count": null,
      "outputs": []
    },
    {
      "cell_type": "code",
      "metadata": {
        "id": "TY6PQ0bWaAq_"
      },
      "source": [
        "chain_id = 1\n",
        "\n",
        "diverging = idata_revised.sample_stats.diverging.data[chain_id]\n",
        "theta0 = idata_revised.posterior['theta'][chain_id][:,0]\n",
        "\n",
        "plt.figure(figsize=(6, 4))\n",
        "plt.scatter(theta0[~diverging], logtau[chain_id][~diverging], color='g')\n",
        "plt.scatter(theta0[diverging], logtau[chain_id][diverging], color='r')\n",
        "plt.axis([-20, 50, -6, 4])\n",
        "plt.ylabel('log(tau)')\n",
        "plt.xlabel('theta[0]')\n",
        "plt.title('scatter plot between log(tau) and theta[0]');"
      ],
      "execution_count": null,
      "outputs": []
    },
    {
      "cell_type": "markdown",
      "source": [
        "#### 自己相関\n",
        "* 自己相関も改善されている。"
      ],
      "metadata": {
        "id": "gfHeK2lNfuka"
      }
    },
    {
      "cell_type": "code",
      "source": [
        "az.plot_autocorr(idata_revised);"
      ],
      "metadata": {
        "id": "0mB-lPxweSzm"
      },
      "execution_count": null,
      "outputs": []
    },
    {
      "cell_type": "markdown",
      "source": [
        "### HDI (highest density interval)\n",
        "* ArviZのforest plotで、chainごとのHDI (highest density interval) を可視化する。\n",
        "* HDIが何であるかについては下記を参照。\n",
        " * http://web.sfc.keio.ac.jp/~maunz/BS14/BS14-11.pdf\n",
        " * https://www.sciencedirect.com/topics/mathematics/highest-density-interval\n",
        "* 改良後のモデルのほうが、chainごとのHDIのばらつきが少ないように見える。"
      ],
      "metadata": {
        "id": "jylbebeygfRe"
      }
    },
    {
      "cell_type": "code",
      "source": [
        "az.plot_forest(\n",
        "    [idata, idata_revised],\n",
        "    model_names=[\"centered\", \"non centered\"],\n",
        "    labeller=az.labels.DimCoordLabeller(),\n",
        "    figsize=(10,10),\n",
        "    );"
      ],
      "metadata": {
        "id": "Tbgpf24YfpoB"
      },
      "execution_count": null,
      "outputs": []
    },
    {
      "cell_type": "code",
      "source": [],
      "metadata": {
        "id": "vybciWN1gFMk"
      },
      "execution_count": null,
      "outputs": []
    }
  ]
}